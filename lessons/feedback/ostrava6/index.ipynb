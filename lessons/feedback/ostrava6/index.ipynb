{
 "cells": [
  {
   "cell_type": "markdown",
   "metadata": {
    "slideshow": {
     "slide_type": "slide"
    }
   },
   "source": [
    "# Feedback k domácím projektům"
   ]
  },
  {
   "cell_type": "markdown",
   "metadata": {
    "slideshow": {
     "slide_type": "slide"
    }
   },
   "source": [
    "## Použití *with*"
   ]
  },
  {
   "cell_type": "markdown",
   "metadata": {},
   "source": [
    "* *with* nám může ušetřit práci i starosti s přemýšlením nad uzavřením otevřeného souboru\n",
    "* čtení celého souboru nemusíme dělat jen přes cyklus for, ale můžeme jej přečíst celý najednou metodou *.read()*"
   ]
  },
  {
   "cell_type": "code",
   "execution_count": null,
   "metadata": {},
   "outputs": [],
   "source": [
    "soubor = open(\"soubor.txt\", mode=\"r\", encoding='utf-8')\n",
    "novy_soubor = open(\"soubor2.txt\", mode=\"w\", encoding='utf-8')\n",
    "\n",
    "for text in soubor:\n",
    "    novy_soubor.write(text) \n",
    "\n",
    "print (\"Soubor zkopírován.\")\n",
    "\n",
    "soubor.close()\n",
    "novy_soubor.close()"
   ]
  },
  {
   "cell_type": "code",
   "execution_count": null,
   "metadata": {
    "slideshow": {
     "slide_type": "slide"
    }
   },
   "outputs": [],
   "source": [
    "with open(\"soubor.txt\", mode=\"r\", encoding='utf-8') as soubor:\n",
    "    with open(\"soubor2.txt\", mode=\"w\", encoding='utf-8') as novy_soubor:\n",
    "        novy_soubor.write(soubor.read()) \n",
    "print (\"Soubor zkopírován.\")"
   ]
  },
  {
   "cell_type": "markdown",
   "metadata": {
    "slideshow": {
     "slide_type": "slide"
    }
   },
   "source": [
    "## Ukázkový příklad porušení DRY"
   ]
  },
  {
   "cell_type": "markdown",
   "metadata": {},
   "source": [
    "Proč se tolik opakovat, když můžeme počet pokusů použít přímo, převést jej na řetězec a jen připojením přípony z něj udělat název souboru?"
   ]
  },
  {
   "cell_type": "code",
   "execution_count": null,
   "metadata": {
    "slideshow": {
     "slide_type": "slide"
    }
   },
   "outputs": [],
   "source": [
    "def vykresliPanacka(pocet_pokusu):\n",
    "    \"Funkce na základě neúspěšných pokusů vypisuje obrázky, dokud hra neskončí.\"\n",
    "    if pocet_pokusu == 1:\n",
    "        vstup=open(\"1.txt\", encoding='utf-8')\n",
    "        obrazek = vstup.read()\n",
    "        print(obrazek)\n",
    "        vstup.close()\n",
    "    elif pocet_pokusu == 2:\n",
    "        vstup=open(\"2.txt\", encoding='utf-8')\n",
    "        obrazek = vstup.read()\n",
    "        print(obrazek)\n",
    "        vstup.close()\n",
    "    elif pocet_pokusu == 3:\n",
    "        vstup=open(\"3.txt\")\n",
    "        obrazek = vstup.read()\n",
    "        print(obrazek)\n",
    "        vstup.close()\n",
    "    elif pocet_pokusu == 4:\n",
    "        vstup=open(\"4.txt\")\n",
    "        obrazek = vstup.read()\n",
    "        print(obrazek)\n",
    "        vstup.close()\n",
    "    elif pocet_pokusu == 5:\n",
    "        vstup=open(\"5.txt\")\n",
    "        obrazek = vstup.read()\n",
    "        print(obrazek)\n",
    "        vstup.close()\n",
    "    elif pocet_pokusu == 6:\n",
    "        vstup=open(\"6.txt\")\n",
    "        obrazek = vstup.read()\n",
    "        print(obrazek)\n",
    "        vstup.close()\n",
    "    elif pocet_pokusu == 7:\n",
    "        vstup=open(\"7.txt\")\n",
    "        obrazek = vstup.read()\n",
    "        print(obrazek)\n",
    "        vstup.close()\n",
    "    elif pocet_pokusu == 8:\n",
    "        vstup=open(\"8.txt\")\n",
    "        obrazek = vstup.read()\n",
    "        print(obrazek)\n",
    "        vstup.close()\n",
    "    elif pocet_pokusu == 9:\n",
    "        vstup=open(\"9.txt\")\n",
    "        obrazek = vstup.read()\n",
    "        print(obrazek)\n",
    "    else:\n",
    "        vstup=open(\"10.txt\")\n",
    "        obrazek = vstup.read()\n",
    "        print(obrazek)\n",
    "        vstup.close()\n",
    "        print (\"Konec hry, prohrál jsi!\")"
   ]
  },
  {
   "cell_type": "code",
   "execution_count": null,
   "metadata": {
    "slideshow": {
     "slide_type": "slide"
    }
   },
   "outputs": [],
   "source": [
    "def vykresliPanacka(pocet_pokusu):\n",
    "    \"Funkce na základě neúspěšných pokusů vypisuje obrázky, dokud hra neskončí.\"\n",
    "    with open(str(pocet_pokusu) + \".txt\", encoding='utf-8') as soubor:\n",
    "        print(soubor.read())"
   ]
  },
  {
   "cell_type": "markdown",
   "metadata": {
    "slideshow": {
     "slide_type": "slide"
    }
   },
   "source": [
    "## Šibenice a vyplnění jednoho znaku do hádaného slova"
   ]
  },
  {
   "cell_type": "code",
   "execution_count": 4,
   "metadata": {},
   "outputs": [
    {
     "name": "stdout",
     "output_type": "stream",
     "text": [
      "-------\n",
      "----e-e\n"
     ]
    }
   ],
   "source": [
    "def nahrazeni_pismene(hr_pole, slovo, pismeno):\n",
    "    pocatek = 0\n",
    "    for pocet in range(slovo.count(pismeno)):\n",
    "        misto = slovo.index(pismeno, pocatek)\n",
    "        hr_pole = hr_pole[:misto] + pismeno + hr_pole[misto + 1:]  \n",
    "        pocatek = misto + 1\n",
    "    return hr_pole\n",
    "\n",
    "slovo = \"ukulele\"\n",
    "hr_pole = len(slovo) * \"-\"\n",
    "pismeno = \"e\"\n",
    "\n",
    "print(hr_pole)\n",
    "hr_pole = nahrazeni_pismene(hr_pole, slovo, pismeno)\n",
    "print(hr_pole)"
   ]
  },
  {
   "cell_type": "markdown",
   "metadata": {
    "slideshow": {
     "slide_type": "slide"
    }
   },
   "source": [
    "## Obecné rady, pochvaly a doporučení"
   ]
  },
  {
   "cell_type": "markdown",
   "metadata": {},
   "source": [
    "* Pochvala všem, kteří odevzdávají úkoly a to i zpětně\n",
    "* Pochvala všem, kteří neví a ptají se (samozřejmě chápeme, že někteří z vás mají doma vlastního poradce)\n",
    "* Když se neptáte, tak vám nemůžeme poradit\n",
    "* Trochu statistiky: aktuálně 25 účastníků kurzu, 11 odevzdalo aspoň 1 úkol, úspěšnost odevzdaných úkolů 60 % a 27 %"
   ]
  }
 ],
 "metadata": {
  "celltoolbar": "Slideshow",
  "kernelspec": {
   "display_name": "Python 3",
   "language": "python",
   "name": "python3"
  },
  "language_info": {
   "codemirror_mode": {
    "name": "ipython",
    "version": 3
   },
   "file_extension": ".py",
   "mimetype": "text/x-python",
   "name": "python",
   "nbconvert_exporter": "python",
   "pygments_lexer": "ipython3",
   "version": "3.8.2"
  }
 },
 "nbformat": 4,
 "nbformat_minor": 2
}
