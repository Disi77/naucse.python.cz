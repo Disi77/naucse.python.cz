{
 "cells": [
  {
   "cell_type": "markdown",
   "metadata": {
    "slideshow": {
     "slide_type": "slide"
    }
   },
   "source": [
    "# Feedback k domácím projektům"
   ]
  },
  {
   "cell_type": "markdown",
   "metadata": {
    "slideshow": {
     "slide_type": "slide"
    }
   },
   "source": [
    "## Zvířátka"
   ]
  },
  {
   "cell_type": "markdown",
   "metadata": {},
   "source": [
    "Najdi chyby, nejasnosti či nepřesnosti v tomto kódu:"
   ]
  },
  {
   "cell_type": "code",
   "execution_count": 3,
   "metadata": {},
   "outputs": [
    {
     "name": "stdout",
     "output_type": "stream",
     "text": [
      "Zadej zvíře: ježek\n",
      "False\n"
     ]
    }
   ],
   "source": [
    "zvire = input(\"Zadej zvíře: \")\n",
    "\n",
    "def je_v_seznamu(zvire):\n",
    "    zvirata = [\"pes\", \"kočka\", \"králík\", \"had\", \"andulka\", \"želva\"]\n",
    "    for jmeno in zvirata: \n",
    "        if zvire in zvirata:\n",
    "            return \"True\"\n",
    "        else:\n",
    "            return \"False\"\n",
    "            \n",
    "print(je_v_seznamu(zvire))\n"
   ]
  },
  {
   "cell_type": "markdown",
   "metadata": {
    "slideshow": {
     "slide_type": "slide"
    }
   },
   "source": [
    "Po úpravě: "
   ]
  },
  {
   "cell_type": "code",
   "execution_count": 4,
   "metadata": {},
   "outputs": [
    {
     "name": "stdout",
     "output_type": "stream",
     "text": [
      "Zadej zvíře: ježek\n",
      "False\n"
     ]
    }
   ],
   "source": [
    "zvirata = [\"pes\", \"kočka\", \"králík\", \"had\", \"andulka\", \"želva\"]\n",
    "zvire = input(\"Zadej zvíře: \")\n",
    "\n",
    "def je_v_seznamu(zvirata, zvire):\n",
    "    if zvire in zvirata:\n",
    "        return True\n",
    "    else:\n",
    "        return False\n",
    "\n",
    "print(je_v_seznamu(zvirata, zvire))"
   ]
  },
  {
   "cell_type": "markdown",
   "metadata": {},
   "source": [
    "Je možné tuto funkci ještě zkrátit a zjednodušit?"
   ]
  },
  {
   "cell_type": "code",
   "execution_count": 8,
   "metadata": {},
   "outputs": [
    {
     "name": "stdout",
     "output_type": "stream",
     "text": [
      "Zadej zvíře: ježek\n",
      "False\n"
     ]
    }
   ],
   "source": [
    "zvirata = [\"pes\", \"kočka\", \"králík\", \"had\", \"andulka\", \"želva\"]\n",
    "zvire = input(\"Zadej zvíře: \")\n",
    "\n",
    "def je_v_seznamu(zvirata, zvire):\n",
    "    return zvire in zvirata\n",
    "\n",
    "print(je_v_seznamu(zvirata, zvire))"
   ]
  },
  {
   "cell_type": "markdown",
   "metadata": {
    "slideshow": {
     "slide_type": "slide"
    }
   },
   "source": [
    "Další podobná funkce:"
   ]
  },
  {
   "cell_type": "code",
   "execution_count": 6,
   "metadata": {},
   "outputs": [
    {
     "name": "stdout",
     "output_type": "stream",
     "text": [
      "pes\n",
      "had\n"
     ]
    },
    {
     "data": {
      "text/plain": [
       "['pes', 'kočka', 'králík', 'had', 'andulka', 'želva']"
      ]
     },
     "execution_count": 6,
     "metadata": {},
     "output_type": "execute_result"
    }
   ],
   "source": [
    "def kratke(jmeno = zvirata):\n",
    "    for i in range(len(jmeno)):\n",
    "        if len(jmeno[i]) < 5:\n",
    "            print(jmeno[i])\n",
    "        else:\n",
    "            print(end = \"\")\n",
    "    return jmeno\n",
    "\n",
    "kratke(zvirata)"
   ]
  },
  {
   "cell_type": "markdown",
   "metadata": {
    "slideshow": {
     "slide_type": "slide"
    }
   },
   "source": [
    "A její přehlednější varianta:"
   ]
  },
  {
   "cell_type": "code",
   "execution_count": 9,
   "metadata": {},
   "outputs": [
    {
     "name": "stdout",
     "output_type": "stream",
     "text": [
      "['pes', 'had']\n"
     ]
    }
   ],
   "source": [
    "zvirata = [\"pes\", \"kočka\", \"králík\", \"had\"]\n",
    "\n",
    "def kratke(seznam):\n",
    "    novy_seznam = []\n",
    "    for zvire in zvirata:\n",
    "        if len(zvire) < 5:\n",
    "            novy_seznam.append(zvire)\n",
    "    return novy_seznam\n",
    "        \n",
    "print(kratke(zvirata))"
   ]
  },
  {
   "cell_type": "markdown",
   "metadata": {
    "slideshow": {
     "slide_type": "slide"
    }
   },
   "source": [
    "## Básnička"
   ]
  },
  {
   "cell_type": "markdown",
   "metadata": {
    "slideshow": {
     "slide_type": "slide"
    }
   },
   "source": [
    "### Obrácené pořadí veršů"
   ]
  },
  {
   "cell_type": "code",
   "execution_count": 10,
   "metadata": {},
   "outputs": [
    {
     "name": "stdout",
     "output_type": "stream",
     "text": [
      "\n",
      "Anyway the wind blows doesn't really matter to me, to me.\n",
      "Little high, little low,\n",
      "Because I'm easy come, easy go,\n",
      "I'm just a poor boy, I need no sympathy,\n",
      "Look up to the skies and see,\n",
      "Open your eyes,\n",
      "\n",
      "No escape from reality.\n",
      "Caught in a landslide,\n",
      "Is this just fantasy?\n",
      "Is this the real life?\n"
     ]
    }
   ],
   "source": [
    "with open(\"static/basnicka.txt\", encoding=\"utf-8\") as soubor_s_basnickou:\n",
    "    basnicka = soubor_s_basnickou.read()\n",
    "\n",
    "seznam_versu = basnicka.split(\"\\n\")  # Rozdělí básničku na jednotlivé verše (řádky) [seznam]\n",
    "seznam_versu.reverse()  # Obrátí pořadí veršů v seznamu\n",
    "obracena_basnicka = \"\\n\".join(seznam_versu)  # Složí zpět seznam na řetězec a mezi verše vloží \\n\n",
    "print(obracena_basnicka)"
   ]
  },
  {
   "cell_type": "code",
   "execution_count": 11,
   "metadata": {
    "slideshow": {
     "slide_type": "slide"
    }
   },
   "outputs": [
    {
     "name": "stdout",
     "output_type": "stream",
     "text": [
      "Anyway the wind blows doesn't really matter to me, to me.\n",
      "Little high, little low,\n",
      "Because I'm easy come, easy go,\n",
      "I'm just a poor boy, I need no sympathy,\n",
      "Look up to the skies and see,\n",
      "Open your eyes,\n",
      "\n",
      "No escape from reality.\n",
      "Caught in a landslide,\n",
      "Is this just fantasy?\n",
      "Is this the real life?\n"
     ]
    }
   ],
   "source": [
    "with open(\"static/basnicka.txt\", encoding=\"utf-8\") as soubor_s_basnickou:\n",
    "    seznam_versu = soubor_s_basnickou.readlines()\n",
    "\n",
    "for vers in seznam_versu[::-1]:\n",
    "    print(vers, end=\"\")"
   ]
  },
  {
   "cell_type": "markdown",
   "metadata": {
    "slideshow": {
     "slide_type": "slide"
    }
   },
   "source": [
    "### Obrácené pořadí slov ve verších"
   ]
  },
  {
   "cell_type": "code",
   "execution_count": 12,
   "metadata": {
    "slideshow": {
     "slide_type": "slide"
    }
   },
   "outputs": [
    {
     "name": "stdout",
     "output_type": "stream",
     "text": [
      "life? real the this Is\n",
      "fantasy? just this Is\n",
      "landslide, a in Caught\n",
      "reality. from escape No\n",
      "\n",
      "eyes, your Open\n",
      "see, and skies the to up Look\n",
      "sympathy, no need I boy, poor a just I'm\n",
      "go, easy come, easy I'm Because\n",
      "low, little high, Little\n",
      "me. to me, to matter really doesn't blows wind the Anyway\n",
      "\n"
     ]
    }
   ],
   "source": [
    "with open(\"static/basnicka.txt\", encoding=\"utf-8\") as soubor_s_basnickou:\n",
    "    basnicka = soubor_s_basnickou.read()\n",
    "\n",
    "seznam_versu = basnicka.split(\"\\n\")  # Rozdělí básničku na jednotlivé verše (řádky) [seznam]\n",
    "\n",
    "nova_basnicka = []  # Seznam pro novou básničku, která obrácením pořadí slov vznikne\n",
    "\n",
    "for vers in seznam_versu:  # Pro každý verš v originální básničce\n",
    "    slova = vers.split()  # Rozdělí verš na slova [seznam]\n",
    "    slova.reverse()  # Obrátí pořádí slov\n",
    "    novy_vers = \" \".join(slova)  # Spojí obrázená slova zpět do řetězce\n",
    "    nova_basnicka.append(novy_vers)  # Přidá nový verš do nové básničky\n",
    "\n",
    "obracena_basnicka = \"\\n\".join(nova_basnicka)  # Složí zpět seznam na řetězec a mezi verše vloží \\n\n",
    "print(obracena_basnicka)"
   ]
  },
  {
   "cell_type": "code",
   "execution_count": 13,
   "metadata": {
    "slideshow": {
     "slide_type": "slide"
    }
   },
   "outputs": [
    {
     "name": "stdout",
     "output_type": "stream",
     "text": [
      "life? real the this Is\n",
      "fantasy? just this Is\n",
      "landslide, a in Caught\n",
      "reality. from escape No\n",
      "\n",
      "eyes, your Open\n",
      "see, and skies the to up Look\n",
      "sympathy, no need I boy, poor a just I'm\n",
      "go, easy come, easy I'm Because\n",
      "low, little high, Little\n",
      "me. to me, to matter really doesn't blows wind the Anyway\n"
     ]
    }
   ],
   "source": [
    "with open(\"static/basnicka.txt\", encoding=\"utf-8\") as soubor_s_basnickou:\n",
    "    seznam_versu = soubor_s_basnickou.readlines()\n",
    "\n",
    "for i, vers in enumerate(seznam_versu):\n",
    "    slova = vers.split()\n",
    "    slova.reverse()\n",
    "    seznam_versu[i] = \" \".join(slova)\n",
    "\n",
    "print(\"\\n\".join(seznam_versu))"
   ]
  },
  {
   "cell_type": "markdown",
   "metadata": {
    "slideshow": {
     "slide_type": "slide"
    }
   },
   "source": [
    "### Obrácené pořadí slok"
   ]
  },
  {
   "cell_type": "code",
   "execution_count": 14,
   "metadata": {
    "slideshow": {
     "slide_type": "slide"
    }
   },
   "outputs": [
    {
     "name": "stdout",
     "output_type": "stream",
     "text": [
      "Open your eyes,\n",
      "Look up to the skies and see,\n",
      "I'm just a poor boy, I need no sympathy,\n",
      "Because I'm easy come, easy go,\n",
      "Little high, little low,\n",
      "Anyway the wind blows doesn't really matter to me, to me.\n",
      "\n",
      "Is this the real life?\n",
      "Is this just fantasy?\n",
      "Caught in a landslide,\n",
      "No escape from reality.\n"
     ]
    }
   ],
   "source": [
    "with open(\"static/basnicka.txt\", encoding=\"utf-8\") as soubor_s_basnickou:\n",
    "    basnicka = soubor_s_basnickou.read()\n",
    "\n",
    "seznam_slok = basnicka.split(\"\\n\\n\")  # Rozdělí básničku na jednotlivé sloky [seznam]\n",
    "seznam_slok.reverse()\n",
    "basnicka = \"\\n\".join(seznam_slok)\n",
    "print(basnicka)"
   ]
  },
  {
   "cell_type": "markdown",
   "metadata": {
    "slideshow": {
     "slide_type": "slide"
    }
   },
   "source": [
    "### Slova v náhodném pořadí (Mr. Yoda style)"
   ]
  },
  {
   "cell_type": "code",
   "execution_count": 15,
   "metadata": {
    "slideshow": {
     "slide_type": "slide"
    }
   },
   "outputs": [
    {
     "name": "stdout",
     "output_type": "stream",
     "text": [
      "real Is the this life?\n",
      "this fantasy? Is just\n",
      "in Caught landslide, a\n",
      "No escape from reality.\n",
      "\n",
      "Open your eyes,\n",
      "Look and the skies to up see,\n",
      "a I'm need poor I sympathy, boy, no just\n",
      "easy I'm come, go, Because easy\n",
      "little high, low, Little\n",
      "really doesn't me, to matter Anyway wind to me. the blows\n"
     ]
    }
   ],
   "source": [
    "from random import shuffle\n",
    "\n",
    "with open(\"static/basnicka.txt\", encoding=\"utf-8\") as soubor_s_basnickou:\n",
    "    seznam_versu = soubor_s_basnickou.readlines()\n",
    "\n",
    "for i, vers in enumerate(seznam_versu):\n",
    "    slova = vers.split()\n",
    "    shuffle(slova)\n",
    "    seznam_versu[i] = \" \".join(slova)\n",
    "\n",
    "print(\"\\n\".join(seznam_versu))"
   ]
  },
  {
   "cell_type": "markdown",
   "metadata": {
    "slideshow": {
     "slide_type": "slide"
    }
   },
   "source": [
    "## Funkce jako stavební blok programu"
   ]
  },
  {
   "cell_type": "markdown",
   "metadata": {},
   "source": [
    "Takto použitá funkce situaci spíše komplikuje, než aby něčemu pomohla."
   ]
  },
  {
   "cell_type": "code",
   "execution_count": 16,
   "metadata": {
    "slideshow": {
     "slide_type": "-"
    }
   },
   "outputs": [
    {
     "name": "stdout",
     "output_type": "stream",
     "text": [
      "['had', 'pes', 'andulka', 'kočka', 'králík']\n"
     ]
    }
   ],
   "source": [
    "zvirata = ['had', 'andulka', 'pes', 'kočka', 'králík']\n",
    "dvojice = []\n",
    "vysledek = []\n",
    "\n",
    "def razeni_had(seznam1, seznam2, seznam3):\n",
    "    '''seřadí výchozí seznam1 podle abecedy, ale bude ignorovat první písmeno'''\n",
    "    for slovo in seznam1:\n",
    "        seznam2.append([slovo[1:], slovo])\n",
    "    seznam2.sort()\n",
    "    for item in seznam2:\n",
    "        seznam3.append(item[1])\n",
    "    seznam3\n",
    "\n",
    "razeni_had(zvirata, dvojice, vysledek)\n",
    "print(vysledek)"
   ]
  },
  {
   "cell_type": "markdown",
   "metadata": {
    "slideshow": {
     "slide_type": "slide"
    }
   },
   "source": [
    "Co se asi stane, když takovou funkci zavoláme vícekrát?"
   ]
  },
  {
   "cell_type": "code",
   "execution_count": 17,
   "metadata": {
    "slideshow": {
     "slide_type": "-"
    }
   },
   "outputs": [
    {
     "name": "stdout",
     "output_type": "stream",
     "text": [
      "['had', 'pes', 'andulka', 'kočka', 'králík']\n",
      "['had', 'pes', 'andulka', 'kočka', 'králík', 'had', 'had', 'pes', 'pes', 'andulka', 'andulka', 'kočka', 'kočka', 'králík', 'králík']\n"
     ]
    }
   ],
   "source": [
    "zvirata = ['had', 'andulka', 'pes', 'kočka', 'králík']\n",
    "dvojice = []\n",
    "vysledek = []\n",
    "\n",
    "def razeni_had(seznam1, seznam2, seznam3):\n",
    "    '''seřadí výchozí seznam1 podle abecedy, ale bude ignorovat první písmeno'''\n",
    "    for slovo in seznam1:\n",
    "        seznam2.append([slovo[1:], slovo])\n",
    "    seznam2.sort()\n",
    "    for item in seznam2:\n",
    "        seznam3.append(item[1])\n",
    "    seznam3\n",
    "\n",
    "razeni_had(zvirata, dvojice, vysledek)\n",
    "print(vysledek)\n",
    "razeni_had(zvirata, dvojice, vysledek)\n",
    "print(vysledek)"
   ]
  },
  {
   "cell_type": "markdown",
   "metadata": {
    "slideshow": {
     "slide_type": "slide"
    }
   },
   "source": [
    "## Ověření, že funkce funguje"
   ]
  },
  {
   "cell_type": "markdown",
   "metadata": {},
   "source": [
    "Nejsnazší je funkci prostě spustit s různými argumenty a podívat se, zda dělá to, co by dělat měla."
   ]
  },
  {
   "cell_type": "code",
   "execution_count": 20,
   "metadata": {
    "slideshow": {
     "slide_type": "slide"
    }
   },
   "outputs": [],
   "source": [
    "def absolutni_soucet(a, b):\n",
    "    if a < 0:\n",
    "        a = -a\n",
    "    if b < 0:\n",
    "        b = -b\n",
    "    return a + b"
   ]
  },
  {
   "cell_type": "code",
   "execution_count": 21,
   "metadata": {
    "slideshow": {
     "slide_type": "-"
    }
   },
   "outputs": [
    {
     "name": "stdout",
     "output_type": "stream",
     "text": [
      "3\n",
      "300\n",
      "3\n",
      "3\n",
      "102\n"
     ]
    }
   ],
   "source": [
    "print(absolutni_soucet(1, 2))\n",
    "print(absolutni_soucet(100, 200))\n",
    "print(absolutni_soucet(-1, -2))\n",
    "print(absolutni_soucet(-1, 2))\n",
    "print(absolutni_soucet(100, -2))"
   ]
  },
  {
   "cell_type": "markdown",
   "metadata": {
    "slideshow": {
     "slide_type": "slide"
    }
   },
   "source": [
    "## Rubber duck problem solving"
   ]
  },
  {
   "cell_type": "markdown",
   "metadata": {},
   "source": [
    "![Gumová kačenka](https://raw.githubusercontent.com/RubberDuckDebugging/rubberduckdebugging.github.io/master/images/rubberducky.png)\n",
    "\n",
    "[rubberduckdebugging.com](https://rubberduckdebugging.com/)"
   ]
  },
  {
   "cell_type": "markdown",
   "metadata": {
    "slideshow": {
     "slide_type": "-"
    }
   },
   "source": [
    "Jde o techniku řešení problému, při které se svůj problém snažíte vysvětlit někomu (nebo v případě gumové kachny něčemu), kdo programování nemusí vůbec rozumět. Když řešenou problematiku a vaše současné řešení popisujete nahlas, uvědomíte si, co váš program aktuálně dělá a co by dělat měl, což zpravidla vede k vyřešení problému."
   ]
  }
 ],
 "metadata": {
  "celltoolbar": "Slideshow",
  "kernelspec": {
   "display_name": "Python 3",
   "language": "python",
   "name": "python3"
  },
  "language_info": {
   "codemirror_mode": {
    "name": "ipython",
    "version": 3
   },
   "file_extension": ".py",
   "mimetype": "text/x-python",
   "name": "python",
   "nbconvert_exporter": "python",
   "pygments_lexer": "ipython3",
   "version": "3.8.2"
  }
 },
 "nbformat": 4,
 "nbformat_minor": 2
}
