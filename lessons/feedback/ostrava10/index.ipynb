{
 "cells": [
  {
   "cell_type": "markdown",
   "metadata": {
    "slideshow": {
     "slide_type": "slide"
    }
   },
   "source": [
    "# Feedback k domácím projektům"
   ]
  },
  {
   "cell_type": "markdown",
   "metadata": {
    "slideshow": {
     "slide_type": "slide"
    }
   },
   "source": [
    "## Problém s proměnnými - lokální vs. globální, mutable vs. immutable"
   ]
  },
  {
   "cell_type": "code",
   "execution_count": null,
   "metadata": {},
   "outputs": [],
   "source": [
    "import pyglet\n",
    "from random import randint\n",
    "\n",
    "sirka = 1280\n",
    "vyska = 800\n",
    "rychlost_x = 0\n",
    "rychlost_y = 0\n",
    "\n",
    "window = pyglet.window.Window(sirka, vyska)\n",
    "\n",
    "obrazek = pyglet.image.load(\"ball.png\")\n",
    "sprite = pyglet.sprite.Sprite(obrazek)\n",
    "sprite.x = -100\n",
    "sprite.y = -100\n",
    "\n",
    "def tik(t):\n",
    "    sprite.x = sprite.x + t * rychlost_x\n",
    "    sprite.y = sprite.y + t * rychlost_y\n",
    "    if sprite.x + obrazek.width > sirka or sprite.x < 0:\n",
    "        rychlost_x = -rychlost_x\n",
    "    if sprite.y + obrazek.height > vyska or sprite.y < 0:\n",
    "        rychlost_y = -rychlost_y\n",
    "\n",
    "def klik(x, y, tlacitko, mod):\n",
    "    sprite.x = x\n",
    "    sprite.y = y\n",
    "    rychlost_x = randint(-500, 500)\n",
    "    rychlost_y = randint(-500, 500)\n",
    "\n",
    "def vykresli():\n",
    "    window.clear()\n",
    "    sprite.draw()\n",
    "\n",
    "pyglet.clock.schedule_interval(tik, 1/30)\n",
    "window.push_handlers(on_draw=vykresli, on_mouse_press=klik)\n",
    "\n",
    "pyglet.app.run()"
   ]
  },
  {
   "cell_type": "markdown",
   "metadata": {},
   "source": [
    "Tento kód nefunguje, protože se uvnitř funkcí snažíme měnit obsah proměnných a zároveň přistupovat k jejich globálnímu stavu."
   ]
  },
  {
   "cell_type": "markdown",
   "metadata": {
    "slideshow": {
     "slide_type": "slide"
    }
   },
   "source": [
    "## Řešení 1 - kouzelný příkaz `global`"
   ]
  },
  {
   "cell_type": "code",
   "execution_count": null,
   "metadata": {},
   "outputs": [],
   "source": [
    "def tik(t):\n",
    "    global rychlost_x, rychlost_y\n",
    "    sprite.x = sprite.x + t * rychlost_x\n",
    "    sprite.y = sprite.y + t * rychlost_y\n",
    "    if sprite.x + obrazek.width > sirka or sprite.x < 0:\n",
    "        rychlost_x = -rychlost_x\n",
    "    if sprite.y + obrazek.height > vyska or sprite.y < 0:\n",
    "        rychlost_y = -rychlost_y\n",
    "\n",
    "def klik(x, y, tlacitko, mod):\n",
    "    global rychlost_x, rychlost_y\n",
    "    sprite.x = x\n",
    "    sprite.y = y\n",
    "    rychlost_x = randint(-500, 500)\n",
    "    rychlost_y = randint(-500, 500)"
   ]
  },
  {
   "cell_type": "markdown",
   "metadata": {
    "slideshow": {
     "slide_type": "slide"
    }
   },
   "source": [
    "## Řešení 2 - slovníky a seznamy"
   ]
  },
  {
   "cell_type": "code",
   "execution_count": null,
   "metadata": {},
   "outputs": [],
   "source": [
    "rychlost = {\"x\": 0, \"y\": 0}\n",
    "\n",
    "def tik(t):\n",
    "    sprite.x = sprite.x + t * rychlost[\"x\"]\n",
    "    sprite.y = sprite.y + t * rychlost[\"y\"]\n",
    "    if sprite.x + obrazek.width > sirka or sprite.x < 0:\n",
    "        rychlost[\"x\"] = -rychlost[\"x\"]\n",
    "    if sprite.y + obrazek.height > vyska or sprite.y < 0:\n",
    "        rychlost[\"y\"] = -rychlost[\"y\"]\n",
    "\n",
    "def klik(x, y, tlacitko, mod):\n",
    "    sprite.x = x\n",
    "    sprite.y = y\n",
    "    rychlost[\"x\"] = randint(-500, 500)\n",
    "    rychlost[\"y\"] = randint(-500, 500)"
   ]
  },
  {
   "cell_type": "markdown",
   "metadata": {
    "slideshow": {
     "slide_type": "slide"
    }
   },
   "source": [
    "## Řešení 3 - třída a objekty"
   ]
  },
  {
   "cell_type": "code",
   "execution_count": null,
   "metadata": {},
   "outputs": [],
   "source": [
    "import pyglet\n",
    "from random import randint\n",
    "\n",
    "sirka = 1280\n",
    "vyska = 800\n",
    "\n",
    "window = pyglet.window.Window(sirka, vyska)\n",
    "\n",
    "obrazek = pyglet.image.load(\"ball.png\")\n",
    "\n",
    "class Kulicka:\n",
    "    def __init__(self, x, y):\n",
    "        self.sprite = pyglet.sprite.Sprite(obrazek)\n",
    "        self.sprite.x = x\n",
    "        self.sprite.y = y\n",
    "        self.rychlost_x = randint(-500, 500)\n",
    "        self.rychlost_y = randint(-500, 500)\n",
    "\n",
    "    def vykresli(self):\n",
    "        self.sprite.draw()\n",
    "    \n",
    "    def tik(self, t):\n",
    "        self.sprite.x = self.sprite.x + t * self.rychlost_x\n",
    "        self.sprite.y = self.sprite.y + t * self.rychlost_y\n",
    "        if self.sprite.x + obrazek.width > sirka or self.sprite.x < 0:\n",
    "            self.rychlost_x = -self.rychlost_x\n",
    "        if self.sprite.y + obrazek.height > vyska or self.sprite.y < 0:\n",
    "            self.rychlost_y = -self.rychlost_y\n",
    "\n",
    "kulicky = []\n",
    "\n",
    "def tik(t):\n",
    "    for kulicka in kulicky:\n",
    "        kulicka.tik(t)\n",
    "\n",
    "def klik(x, y, tlacitko, mod):\n",
    "    kulicky.append(Kulicka(x, y))\n",
    "\n",
    "def vykresli():\n",
    "    window.clear()\n",
    "    for kulicka in kulicky:\n",
    "        kulicka.vykresli()\n",
    "\n",
    "pyglet.clock.schedule_interval(tik, 1/30)\n",
    "window.push_handlers(on_draw=vykresli, on_mouse_press=klik)\n",
    "\n",
    "pyglet.app.run()\n"
   ]
  }
 ],
 "metadata": {
  "celltoolbar": "Slideshow",
  "kernelspec": {
   "display_name": "Python 3",
   "language": "python",
   "name": "python3"
  },
  "language_info": {
   "codemirror_mode": {
    "name": "ipython",
    "version": 3
   },
   "file_extension": ".py",
   "mimetype": "text/x-python",
   "name": "python",
   "nbconvert_exporter": "python",
   "pygments_lexer": "ipython3",
   "version": "3.8.1"
  }
 },
 "nbformat": 4,
 "nbformat_minor": 2
}
