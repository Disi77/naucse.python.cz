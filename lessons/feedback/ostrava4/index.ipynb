{
 "cells": [
  {
   "cell_type": "markdown",
   "metadata": {
    "slideshow": {
     "slide_type": "slide"
    }
   },
   "source": [
    "# Feedback k domácím projektům"
   ]
  },
  {
   "cell_type": "markdown",
   "metadata": {
    "slideshow": {
     "slide_type": "slide"
    }
   },
   "source": [
    "## Co dělá a vrací funkce `print()`?"
   ]
  },
  {
   "cell_type": "code",
   "execution_count": 1,
   "metadata": {},
   "outputs": [
    {
     "name": "stdout",
     "output_type": "stream",
     "text": [
      "Ahoj světe\n",
      "None\n"
     ]
    }
   ],
   "source": [
    "vysledek = print(\"Ahoj světe\")\n",
    "print(vysledek)"
   ]
  },
  {
   "cell_type": "markdown",
   "metadata": {},
   "source": [
    "## Co dělá a vrací funkce `input()`?"
   ]
  },
  {
   "cell_type": "code",
   "execution_count": 2,
   "metadata": {},
   "outputs": [
    {
     "name": "stdout",
     "output_type": "stream",
     "text": [
      "Napiš své jméno: Petra\n",
      "Petra\n"
     ]
    }
   ],
   "source": [
    "jmeno = input(\"Napiš své jméno: \")\n",
    "print(jmeno)"
   ]
  },
  {
   "cell_type": "markdown",
   "metadata": {},
   "source": [
    "## Co dělá a vrací funkce `len()`?"
   ]
  },
  {
   "cell_type": "code",
   "execution_count": 3,
   "metadata": {},
   "outputs": [
    {
     "name": "stdout",
     "output_type": "stream",
     "text": [
      "5\n"
     ]
    }
   ],
   "source": [
    "delka = len(\"Petra\")\n",
    "print(delka)"
   ]
  },
  {
   "cell_type": "markdown",
   "metadata": {},
   "source": [
    "## Proměnné a for cyklus - takto NE !!!"
   ]
  },
  {
   "cell_type": "code",
   "execution_count": 4,
   "metadata": {},
   "outputs": [
    {
     "name": "stdout",
     "output_type": "stream",
     "text": [
      "\n",
      "♫\n",
      "♫♫\n",
      "♫♫♫\n",
      "♫♫♫♫\n",
      "V proměnné cislo je uložena hodnota:  5\n"
     ]
    }
   ],
   "source": [
    "cislo = 20\n",
    "for cislo in range(5):\n",
    "    print(cislo * \"♫\")\n",
    "    cislo = cislo + 1\n",
    "print(\"V proměnné cislo je uložena hodnota: \", cislo)"
   ]
  },
  {
   "cell_type": "markdown",
   "metadata": {},
   "source": [
    "## Opraveno:"
   ]
  },
  {
   "cell_type": "code",
   "execution_count": 5,
   "metadata": {},
   "outputs": [
    {
     "name": "stdout",
     "output_type": "stream",
     "text": [
      "\n",
      "♫\n",
      "♫♫\n",
      "♫♫♫\n",
      "♫♫♫♫\n"
     ]
    }
   ],
   "source": [
    "for cislo in range(5):\n",
    "    print(cislo * \"♫\")"
   ]
  },
  {
   "cell_type": "markdown",
   "metadata": {
    "slideshow": {
     "slide_type": "slide"
    }
   },
   "source": [
    "## Lze tento kód napsat jednodušeji, aby dělal to samé?"
   ]
  },
  {
   "cell_type": "code",
   "execution_count": 6,
   "metadata": {
    "slideshow": {
     "slide_type": "-"
    }
   },
   "outputs": [
    {
     "name": "stdout",
     "output_type": "stream",
     "text": [
      "X X X X X\n",
      "X X X X X\n",
      "X X X X X\n",
      "X X X X X\n",
      "X X X X X\n"
     ]
    }
   ],
   "source": [
    "promenna = \"X\"\n",
    "\n",
    "for j in range(5):\n",
    "    for i in promenna:\n",
    "        print(i, i, i, i, i)"
   ]
  },
  {
   "cell_type": "markdown",
   "metadata": {
    "slideshow": {
     "slide_type": "fragment"
    }
   },
   "source": [
    "## Ano jde"
   ]
  },
  {
   "cell_type": "code",
   "execution_count": 7,
   "metadata": {
    "slideshow": {
     "slide_type": "-"
    }
   },
   "outputs": [
    {
     "name": "stdout",
     "output_type": "stream",
     "text": [
      "X X X X X \n",
      "X X X X X \n",
      "X X X X X \n",
      "X X X X X \n",
      "X X X X X \n"
     ]
    }
   ],
   "source": [
    "for j in range(5):\n",
    "    print('X ' * 5)"
   ]
  },
  {
   "cell_type": "markdown",
   "metadata": {
    "slideshow": {
     "slide_type": "slide"
    }
   },
   "source": [
    "## Prázdný čtverec"
   ]
  },
  {
   "cell_type": "markdown",
   "metadata": {},
   "source": [
    "### Upovídané řešení"
   ]
  },
  {
   "cell_type": "code",
   "execution_count": 8,
   "metadata": {},
   "outputs": [
    {
     "name": "stdout",
     "output_type": "stream",
     "text": [
      "X X X X X X \n",
      "X         X \n",
      "X         X \n",
      "X         X \n",
      "X         X \n",
      "X X X X X X \n"
     ]
    }
   ],
   "source": [
    "for radek in range(6):\n",
    "    if radek == 0:\n",
    "        for obsah_radku in range(6):\n",
    "            print('X', end=\" \")\n",
    "        print()\n",
    "    elif  radek == 5:\n",
    "        for obsah_radku in range(6):\n",
    "                print('X', end=\" \")\n",
    "        print()\n",
    "    else:\n",
    "        print('X', end=\" \")\n",
    "        print(' ' * 7, end=\" \")\n",
    "        print('X', end=\" \")\n",
    "        print()"
   ]
  },
  {
   "cell_type": "markdown",
   "metadata": {
    "slideshow": {
     "slide_type": "slide"
    }
   },
   "source": [
    "### Méně upovidané řešení"
   ]
  },
  {
   "cell_type": "code",
   "execution_count": 9,
   "metadata": {},
   "outputs": [
    {
     "name": "stdout",
     "output_type": "stream",
     "text": [
      "x x x x x x\n",
      "x         x\n",
      "x         x\n",
      "x         x\n",
      "x         x\n",
      "x x x x x x\n"
     ]
    }
   ],
   "source": [
    "for radek in range(6):\n",
    "    if radek == 0:\n",
    "        print('x x x x x x')\n",
    "    elif radek==5:\n",
    "        print('x x x x x x')\n",
    "    else:\n",
    "        print('x         x')"
   ]
  },
  {
   "cell_type": "markdown",
   "metadata": {
    "slideshow": {
     "slide_type": "slide"
    }
   },
   "source": [
    "### Kratší řešení"
   ]
  },
  {
   "cell_type": "code",
   "execution_count": 10,
   "metadata": {},
   "outputs": [
    {
     "name": "stdout",
     "output_type": "stream",
     "text": [
      "X X X X X X \n",
      "X         X\n",
      "X         X\n",
      "X         X\n",
      "X         X\n",
      "X X X X X X \n"
     ]
    }
   ],
   "source": [
    "for radek in range(6):\n",
    "    if radek == 0 or radek == 5:\n",
    "        print('X ' * 6)\n",
    "    else:\n",
    "        print('X ', ' ' * 6, 'X')"
   ]
  },
  {
   "cell_type": "markdown",
   "metadata": {},
   "source": [
    "### Další řešení"
   ]
  },
  {
   "cell_type": "code",
   "execution_count": 11,
   "metadata": {},
   "outputs": [
    {
     "name": "stdout",
     "output_type": "stream",
     "text": [
      "X X X X X X \n",
      "X         X \n",
      "X         X \n",
      "X         X \n",
      "X         X \n",
      "X X X X X X \n"
     ]
    }
   ],
   "source": [
    "for radek in range(6):\n",
    "    for sloupec in range(6):\n",
    "        if radek == 0 or sloupec == 0 or radek == 5 or sloupec == 5:\n",
    "            print('X', end=' ')\n",
    "        else:\n",
    "            print(' ', end=' ')\n",
    "    print()        "
   ]
  },
  {
   "cell_type": "markdown",
   "metadata": {
    "slideshow": {
     "slide_type": "slide"
    }
   },
   "source": [
    "## Fibonacciho posloupnost"
   ]
  },
  {
   "cell_type": "code",
   "execution_count": 12,
   "metadata": {},
   "outputs": [
    {
     "name": "stdout",
     "output_type": "stream",
     "text": [
      "0, 1, 1, 2, 3, 5, 8, 13, 21, 34, 55, 89, 144, 233, 377, 610, 987, 1597, 2584, 4181, 6765, 10946, "
     ]
    }
   ],
   "source": [
    "pocet = 20\n",
    "a = 0\n",
    "b = 1\n",
    "\n",
    "print(a, b, sep=\", \", end=\", \")\n",
    "\n",
    "for i in range(pocet):\n",
    "    dalsi_v_rade = a + b\n",
    "    a = b\n",
    "    b = dalsi_v_rade\n",
    "\n",
    "    print(dalsi_v_rade, end=\", \")"
   ]
  },
  {
   "cell_type": "markdown",
   "metadata": {
    "slideshow": {
     "slide_type": "slide"
    }
   },
   "source": [
    "## Obecné připomínky a rady"
   ]
  },
  {
   "cell_type": "markdown",
   "metadata": {
    "slideshow": {
     "slide_type": "-"
    }
   },
   "source": [
    "* Pokud funkce nemá argumenty, mezi otevírací a zavírací závorku se nic nepíše (ani mezera)\n",
    "* Také mezi název funkce a závorky se mezera nepíše - takže nikoli `print ()` ale `print()`\n",
    "* BABY STEPS\n",
    "* Funkce, argument, pojmenovaný argument, návratová hodnota (Lekce 3: Cykly -> Funkce)\n",
    "* Složitost algoritmů a nebezpečí použití vnořených cyklů"
   ]
  }
 ],
 "metadata": {
  "celltoolbar": "Slideshow",
  "kernelspec": {
   "display_name": "Python 3",
   "language": "python",
   "name": "python3"
  },
  "language_info": {
   "codemirror_mode": {
    "name": "ipython",
    "version": 3
   },
   "file_extension": ".py",
   "mimetype": "text/x-python",
   "name": "python",
   "nbconvert_exporter": "python",
   "pygments_lexer": "ipython3",
   "version": "3.8.2"
  }
 },
 "nbformat": 4,
 "nbformat_minor": 2
}
